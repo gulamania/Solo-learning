{
 "cells": [
  {
   "cell_type": "code",
   "execution_count": 23,
   "metadata": {},
   "outputs": [],
   "source": [
    "import math\n",
    "import numpy as np\n",
    "import matplotlib.pyplot as plt"
   ]
  },
  {
   "cell_type": "code",
   "execution_count": 32,
   "metadata": {},
   "outputs": [
    {
     "data": {
      "text/plain": [
       "Value(data=4.0)"
      ]
     },
     "execution_count": 32,
     "metadata": {},
     "output_type": "execute_result"
    }
   ],
   "source": [
    "#Building out an expression tree\n",
    "\n",
    "class Value:\n",
    "    def __init__(self,data, _children=()):\n",
    "        self.data = data\n",
    "        self._prev = set(_children)\n",
    "\n",
    "    def __repr__(self) -> str:\n",
    "        return f\"Value(data={self.data})\"\n",
    "\n",
    "    def __add__(self,other):\n",
    "        out = Value(self.data + other.data, (self, other))\n",
    "\n",
    "        return out\n",
    "    def __mul__(self,other):\n",
    "        out = Value(self.data*other.data)\n",
    "        return out\n",
    "\n",
    "a = Value(2.0)\n",
    "b = Value(-3.0)\n",
    "c = Value(10.0)\n",
    "a*b+c"
   ]
  }
 ],
 "metadata": {
  "kernelspec": {
   "display_name": ".venv",
   "language": "python",
   "name": "python3"
  },
  "language_info": {
   "codemirror_mode": {
    "name": "ipython",
    "version": 3
   },
   "file_extension": ".py",
   "mimetype": "text/x-python",
   "name": "python",
   "nbconvert_exporter": "python",
   "pygments_lexer": "ipython3",
   "version": "3.10.5"
  },
  "orig_nbformat": 4,
  "vscode": {
   "interpreter": {
    "hash": "35c1e6c0f1c50c8d4ad341dba1e509bbcba1ab90806ae37f355272dae0207a71"
   }
  }
 },
 "nbformat": 4,
 "nbformat_minor": 2
}
